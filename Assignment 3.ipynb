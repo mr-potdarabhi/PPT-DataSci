{
 "cells": [
  {
   "cell_type": "markdown",
   "id": "17a16892",
   "metadata": {},
   "source": [
    "### 1. Scenario: A company wants to analyze the sales performance of its products in different regions. They have collected the following data:\n",
    "    Region A: [10, 15, 12, 8, 14]\n",
    "    Region B: [18, 20, 16, 22, 25]\n",
    "### calculate the mean sales for each region. \n"
   ]
  },
  {
   "cell_type": "code",
   "execution_count": 5,
   "id": "b4c09390",
   "metadata": {},
   "outputs": [
    {
     "name": "stdout",
     "output_type": "stream",
     "text": [
      "Mean Sales for Region A :11.8\n",
      "Mean Sales for Region A :20.2\n"
     ]
    }
   ],
   "source": [
    "def cal_mean(sales):\n",
    "    total_sales = sum(sales)\n",
    "    mean = total_sales / len(sales)\n",
    "    return mean\n",
    "    \n",
    "sales_Region_A = [10, 15, 12, 8, 14]\n",
    "mean_A = cal_mean(sales_Region_A)\n",
    "print(f\"Mean Sales for Region A :{mean_A}\")\n",
    "\n",
    "sales_Region_B = [18, 20, 16, 22, 25]\n",
    "mean_B = cal_mean(sales_Region_B)\n",
    "print(f\"Mean Sales for Region A :{mean_B}\")"
   ]
  },
  {
   "cell_type": "markdown",
   "id": "9aaf033f",
   "metadata": {},
   "source": [
    "### 2. Scenario: A survey is conducted to measure customer satisfaction on a scale of 1 to 5. The data collected is as follows:\n",
    "       [4, 5, 2, 3, 5, 4, 3, 2, 4, 5]\n",
    "   ### Calculate the mode of the survey responses.\n"
   ]
  },
  {
   "cell_type": "code",
   "execution_count": 10,
   "id": "448161e7",
   "metadata": {},
   "outputs": [
    {
     "name": "stdout",
     "output_type": "stream",
     "text": [
      "mode of survey response : 4\n"
     ]
    }
   ],
   "source": [
    "from collections import Counter\n",
    "def calculate_mode(responses):\n",
    "    count = Counter(responses)\n",
    "    mode = count.most_common(1)[0][0]\n",
    "    return mode\n",
    "\n",
    "survey_response =  [4, 5, 2, 3, 5, 4, 3, 2, 4, 5]\n",
    "mode_response = calculate_mode(survey_response)\n",
    "print(f\"mode of survey response :\",mode_response )"
   ]
  },
  {
   "cell_type": "markdown",
   "id": "3d4fafb1",
   "metadata": {},
   "source": [
    "### 3. Scenario: A company wants to compare the salaries of two departments. The salary data for Department A and Department B are as follows:\n",
    "       Department A: [5000, 6000, 5500, 7000]\n",
    "       Department B: [4500, 5500, 5800, 6000, 5200]\n",
    "   ### Calculate the median salary for each department.\n"
   ]
  },
  {
   "cell_type": "code",
   "execution_count": 19,
   "id": "9bdca0c9",
   "metadata": {},
   "outputs": [
    {
     "name": "stdout",
     "output_type": "stream",
     "text": [
      "median salary for Department A : 5750.0\n",
      "median salary for Department B : 5500\n"
     ]
    }
   ],
   "source": [
    "import statistics\n",
    "\n",
    "salary_department_a =  [5000, 6000, 5500, 7000]\n",
    "median_department_a = statistics.median(salary_department_a)\n",
    "print(\"median salary for Department A :\",median_department_a)\n",
    "\n",
    "salary_department_b =  [4500, 5500, 5800, 6000, 5200]\n",
    "median_department_b = statistics.median(salary_department_b)\n",
    "print(\"median salary for Department B :\",median_department_b)"
   ]
  },
  {
   "cell_type": "markdown",
   "id": "ebd389a4",
   "metadata": {},
   "source": [
    "### 4. Scenario: A data analyst wants to determine the variability in the daily stock prices of a company. The data collected is as follows:\n",
    "       [25.5, 24.8, 26.1, 25.3, 24.9]\n",
    "  ### Calculate the range of the stock prices\n"
   ]
  },
  {
   "cell_type": "code",
   "execution_count": 30,
   "id": "38af43a0",
   "metadata": {},
   "outputs": [
    {
     "name": "stdout",
     "output_type": "stream",
     "text": [
      "Range of the stock price is : 1.3000000000000007\n"
     ]
    }
   ],
   "source": [
    "stock_prc = [25.5, 24.8, 26.1, 25.3, 24.9]\n",
    "price_range = max(stock_prc) - min(stock_prc)\n",
    "\n",
    "print(\"Range of the stock price is :\" , price_range)"
   ]
  },
  {
   "cell_type": "markdown",
   "id": "67810151",
   "metadata": {},
   "source": [
    "\n",
    "### 5. Scenario: A study is conducted to compare the performance of two different teaching methods. The test scores of the students in each group are as follows:\n",
    "       Group A: [85, 90, 92, 88, 91]\n",
    "       Group B: [82, 88, 90, 86, 87]\n",
    "  ### Perform a t-test to determine if there is a significant difference in the mean scores between the two groups.\n"
   ]
  },
  {
   "cell_type": "code",
   "execution_count": 42,
   "id": "b6717303",
   "metadata": {},
   "outputs": [
    {
     "name": "stdout",
     "output_type": "stream",
     "text": [
      "T-Statistic: 1.4312528946642733\n",
      "P-Value: 0.19023970239078333\n"
     ]
    }
   ],
   "source": [
    "from scipy import stats\n",
    "\n",
    "# Test scores for Group A and Group B\n",
    "group_a_scores = [85, 90, 92, 88, 91]\n",
    "group_b_scores = [82, 88, 90, 86, 87]\n",
    "\n",
    "# Perform independent t-test\n",
    "t_statistic, p_value = stats.ttest_ind(group_a_scores, group_b_scores)\n",
    "\n",
    "# Print the t-statistic and p-value\n",
    "print(\"T-Statistic:\", t_statistic)\n",
    "print(\"P-Value:\", p_value)\n"
   ]
  },
  {
   "cell_type": "markdown",
   "id": "799c761f",
   "metadata": {},
   "source": [
    "### 6. Scenario: A company wants to analyze the relationship between advertising expenditure and sales. The data collected is as follows:\n",
    "       Advertising Expenditure (in thousands): [10, 15, 12, 8, 14]\n",
    "       Sales (in thousands): [25, 30, 28, 20, 26]\n",
    "   ### Calculate the correlation coefficient between advertising expenditure and sales.\n"
   ]
  },
  {
   "cell_type": "code",
   "execution_count": 4,
   "id": "1d5e6052",
   "metadata": {},
   "outputs": [
    {
     "name": "stdout",
     "output_type": "stream",
     "text": [
      "correlation coefficient between advertising expenditure and sales is :  0.8757511375750132\n"
     ]
    }
   ],
   "source": [
    "import numpy as np\n",
    "advertising_Expenditure = np.array([10, 15, 12, 8, 14])\n",
    "sales = np.array([25, 30, 28, 20, 26])\n",
    "\n",
    "#cal correlation coefficient :\n",
    "correlation_coefficient = np.corrcoef(advertising_Expenditure,sales)[0,1]\n",
    "print(\"correlation coefficient between advertising expenditure and sales is : \",correlation_coefficient)"
   ]
  },
  {
   "cell_type": "markdown",
   "id": "b1c49c11",
   "metadata": {},
   "source": [
    "### 7. Scenario: A survey is conducted to measure the heights of a group of people. The data collected is as follows:\n",
    "       [160, 170, 165, 155, 175, 180, 170]\n",
    "### Calculate the standard deviation of the heights.\n"
   ]
  },
  {
   "cell_type": "code",
   "execution_count": 5,
   "id": "b3196a4c",
   "metadata": {},
   "outputs": [
    {
     "name": "stdout",
     "output_type": "stream",
     "text": [
      "The Sandard Dviation of Hights is : 7.953949089757174\n"
     ]
    }
   ],
   "source": [
    "import numpy as np\n",
    "hights = np.array([160, 170, 165, 155, 175, 180, 170])\n",
    "\n",
    "#cal std-dev:\n",
    "standard_deviation = np.std(hights)\n",
    "print(\"The Sandard Dviation of Hights is :\" ,standard_deviation)"
   ]
  },
  {
   "cell_type": "markdown",
   "id": "a81ba73e",
   "metadata": {},
   "source": [
    "\n",
    "### 8. Scenario: A company wants to analyze the relationship between employee tenure and job satisfaction. The data collected is as follows:\n",
    "       Employee Tenure (in years): [2, 3, 5, 4, 6, 2, 4]\n",
    "       Job Satisfaction (on a scale of 1 to 10): [7, 8, 6, 9, 5, 7, 6]\n",
    "### Perform a linear regression analysis to predict job satisfaction based on employee tenure.\n"
   ]
  },
  {
   "cell_type": "code",
   "execution_count": 32,
   "id": "84bce79a",
   "metadata": {},
   "outputs": [
    {
     "name": "stdout",
     "output_type": "stream",
     "text": [
      "slop of coef is :-0.4680851063829787 and  \n",
      "intercept is : 8.595744680851062\n",
      "prediction job satisfaction for new employee tenure :  [7.65957447 6.25531915 5.78723404]\n"
     ]
    }
   ],
   "source": [
    "import numpy as np\n",
    "from sklearn.linear_model import LinearRegression\n",
    "\n",
    "employee_tenure = np.array([2, 3, 5, 4, 6, 2, 4]).reshape(-1,1)   #Scikit-learns LinearRegression excepts 2D input\n",
    "job_satisfaction = np.array([7, 8, 6, 9, 5, 7, 6])\n",
    "\n",
    "#create the LinearRegression model and fit the data..\n",
    "model = LinearRegression()\n",
    "model.fit(employee_tenure,job_satisfaction)\n",
    "\n",
    "#Retrieve the slope (coefficient) and intercept of the linear regression line..\n",
    "coef = model.coef_[0]\n",
    "intercept = model.intercept_\n",
    "print(f\"\"\"slop of coef is :{coef} and  \n",
    "intercept is : {intercept}\"\"\")\n",
    "\n",
    "#Take the New employee tenure values for prediction into employee_tenure ...\n",
    "new_employee_tenure = np.array([2,5,6]).reshape(-1,1)\n",
    "\n",
    "#prediction job satisfaction for new employee tenure values...\n",
    "predication_job_satisfaction = model.predict(new_employee_tenure)\n",
    "print(\"prediction job satisfaction for new employee tenure : \", predication_job_satisfaction)"
   ]
  },
  {
   "cell_type": "markdown",
   "id": "2951a847",
   "metadata": {},
   "source": [
    "### 9. Scenario: A study is conducted to compare the effectiveness of two different medications. The recovery times of the patients in each group are as follows:\n",
    "       Medication A: [10, 12, 14, 11, 13]\n",
    "       Medication B: [15, 17, 16, 14, 18]\n",
    "   ### Perform an analysis of variance (ANOVA) to determine if there is a significant difference in the mean recovery times between the two medications.\n"
   ]
  },
  {
   "cell_type": "code",
   "execution_count": 45,
   "id": "303aaba3",
   "metadata": {},
   "outputs": [
    {
     "name": "stdout",
     "output_type": "stream",
     "text": [
      "f_value : 16.0\n",
      "p_value: 0.003949772803445326\n"
     ]
    }
   ],
   "source": [
    "from scipy import stats\n",
    "\n",
    "#recovery times of patients for medications A and B..\n",
    "medication_a = [10, 12, 14, 11, 13]\n",
    "medication_b = [15, 17, 16, 14, 18]\n",
    "#ANOVA:\n",
    "f_value, p_value = stats.f_oneway(medication_a,medication_b)\n",
    "\n",
    "print(\"f_value :\",f_value) #measure the difference between the group means.\n",
    "print(\"p_value:\",p_value) #p_value indocates significance of the observed difference."
   ]
  },
  {
   "cell_type": "markdown",
   "id": "3d910110",
   "metadata": {},
   "source": [
    "### 10. Scenario: A company wants to analyze customer feedback ratings on a scale of 1 to 10. The data collected is as follows:\n",
    "        [8, 9, 7, 6, 8, 10, 9, 8, 7, 8]\n",
    "### Calculate the 75th percentile of the feedback ratings.\n",
    "\n"
   ]
  },
  {
   "cell_type": "code",
   "execution_count": 46,
   "id": "2275cd6c",
   "metadata": {},
   "outputs": [
    {
     "name": "stdout",
     "output_type": "stream",
     "text": [
      " 75th percentile of the feedback ratings is : 8.75\n"
     ]
    }
   ],
   "source": [
    "import numpy as np\n",
    "#Feedback rating:\n",
    "feedback_ratings = [8, 9, 7, 6, 8, 10, 9, 8, 7, 8]\n",
    "\n",
    "#cal the 75th percentile...\n",
    "percentile_75th = np.percentile(feedback_ratings, 75)\n",
    "print(\" 75th percentile of the feedback ratings is :\",percentile_75th)"
   ]
  },
  {
   "cell_type": "markdown",
   "id": "af60345d",
   "metadata": {},
   "source": [
    "### 11. Scenario: A quality control department wants to test the weight consistency of a product. The weights of a sample of products are as follows:\n",
    "    [10.2, 9.8, 10.0, 10.5, 10.3, 10.1]\n",
    "### Perform a hypothesis test to determine if the mean weight differs significantly from 10 grams.\n"
   ]
  },
  {
   "cell_type": "code",
   "execution_count": 47,
   "id": "09f4aa50",
   "metadata": {},
   "outputs": [
    {
     "name": "stdout",
     "output_type": "stream",
     "text": [
      "t_test: 1.5126584522688367\n",
      "p_value : 0.19077595151110102\n"
     ]
    }
   ],
   "source": [
    "from scipy import stats\n",
    "\n",
    "weights = [10.2, 9.8, 10.0, 10.5, 10.3, 10.1]\n",
    "\n",
    "#one-sample t-test to determine if the mean weight differs significantly from 10 grams..\n",
    "t_test , p_value = stats.ttest_1samp(weights,10)\n",
    "\n",
    "print(\"t_test:\", t_test)\n",
    "print(\"p_value :\",p_value)"
   ]
  },
  {
   "cell_type": "markdown",
   "id": "1f99dee7",
   "metadata": {},
   "source": [
    "\n",
    "### 12. Scenario: A company wants to analyze the click-through rates of two different website designs. The number of clicks for each design is as follows:\n",
    "    Design A: [100, 120, 110, 90, 95]\n",
    "    Design B: [80, 85, 90, 95, 100]\n",
    "### Perform a chi-square test to determine if there is a significant difference in the click-through rates between the two designs.\n"
   ]
  },
  {
   "cell_type": "code",
   "execution_count": 49,
   "id": "119b0c68",
   "metadata": {},
   "outputs": [
    {
     "name": "stdout",
     "output_type": "stream",
     "text": [
      "Chi-square statistic: 0.0\n",
      "p-value: 1.0\n"
     ]
    }
   ],
   "source": [
    "from scipy import stats\n",
    "\n",
    "design_a = [100, 120, 110, 90, 95]\n",
    "design_b = [80, 85, 90, 95, 100]\n",
    "\n",
    "# Cal observed freq\n",
    "observed_frequencies = [len(design_a), len(design_b)]\n",
    "\n",
    "# Cal expected freq assuming equal proportions\n",
    "total_count = len(design_a) + len(design_b)\n",
    "expected_frequency = total_count / 2\n",
    "expected_frequencies = [expected_frequency, expected_frequency]\n",
    "\n",
    "# Perform chi-square test\n",
    "chi2_statistic, p_value = stats.chisquare(observed_frequencies, expected_frequencies)\n",
    "\n",
    "# Print the results\n",
    "print(\"Chi-square statistic:\", chi2_statistic)\n",
    "print(\"p-value:\", p_value)\n"
   ]
  },
  {
   "cell_type": "markdown",
   "id": "d90faa36",
   "metadata": {},
   "source": [
    "\n",
    "### 13. Scenario: A survey is conducted to measure customer satisfaction with a product on a scale of 1 to 10. The data collected is as follows:\n",
    "    [7, 9, 6, 8, 10, 7, 8, 9, 7, 8]\n",
    "### Calculate the 95% confidence interval for the population mean satisfaction score.\n"
   ]
  },
  {
   "cell_type": "code",
   "execution_count": 62,
   "id": "599b09e6",
   "metadata": {},
   "outputs": [
    {
     "name": "stdout",
     "output_type": "stream",
     "text": [
      "The 95% confidence interval for the population mean satisfaction score is: (7.158, 8.642)\n"
     ]
    }
   ],
   "source": [
    "import math\n",
    "data = [7, 9, 6, 8, 10, 7, 8, 9, 7, 8]\n",
    "# calculate sample of mean:\n",
    "sample_mean = sum(data)/ len(data)\n",
    "\n",
    "#cal standard deviation:\n",
    "sample_std_dev = math.sqrt(sum((x - sample_mean) ** 2 for x in data) / (len(data) - 1))\n",
    "#set the confidence level:\n",
    "confidence_level = 0.95\n",
    "\n",
    "#cal z-score \n",
    "z_score = 1.96    #in this case, 95% confidence corresponds to a z-score of approximately 1.96\n",
    "\n",
    "#cal standard error:\n",
    "standard_error = sample_std_dev / math.sqrt(len(data))\n",
    "\n",
    "# Cal the margin of error\n",
    "margin_of_error = z_score * standard_error\n",
    "\n",
    "# Cal the lower and upper bounds of the confidence interval\n",
    "lower_bound = sample_mean - margin_of_error\n",
    "upper_bound = sample_mean + margin_of_error\n",
    "\n",
    "# Print the confidence interval\n",
    "print(f\"The 95% confidence interval for the population mean satisfaction score is: ({lower_bound:.3f}, {upper_bound:.3f})\")"
   ]
  },
  {
   "cell_type": "markdown",
   "id": "37561be2",
   "metadata": {},
   "source": [
    "### 14. Scenario: A company wants to analyze the effect of temperature on product performance. The data collected is as follows:\n",
    "    Temperature (in degrees Celsius): [20, 22, 23, 19, 21]\n",
    "    Performance (on a scale of 1 to 10): [8, 7, 9, 6, 8]\n",
    "### Perform a simple linear regression to predict performance based on temperature.\n"
   ]
  },
  {
   "cell_type": "code",
   "execution_count": 68,
   "id": "1c3bdd05",
   "metadata": {},
   "outputs": [
    {
     "name": "stdout",
     "output_type": "stream",
     "text": [
      "Performance = -2.900 + 0.500 * Temperature\n"
     ]
    }
   ],
   "source": [
    "import numpy as np\n",
    "from sklearn.linear_model import LinearRegression\n",
    "\n",
    "# Temperature data\n",
    "temperature = np.array([20, 22, 23, 19, 21])\n",
    "\n",
    "# Performance data\n",
    "performance = np.array([8, 7, 9, 6, 8])\n",
    "\n",
    "# Reshape the temperature data\n",
    "X = temperature.reshape((-1, 1))\n",
    "\n",
    "# Reshape the performance data\n",
    "y = performance\n",
    "\n",
    "# Create a linear regression model\n",
    "model = LinearRegression()\n",
    "\n",
    "# Fit the model to the data\n",
    "model.fit(X, y)\n",
    "\n",
    "# Extract the slope (coefficient) of the linear regression line\n",
    "slope = model.coef_[0]\n",
    "\n",
    "# Extract the intercept of the linear regression line\n",
    "intercept = model.intercept_\n",
    "\n",
    "# Print the equation of the regression line\n",
    "print(f\"Performance = {intercept:.3f} + {slope:.3f} * Temperature\")\n"
   ]
  },
  {
   "cell_type": "markdown",
   "id": "ce601e02",
   "metadata": {},
   "source": [
    "the performance is expected to increase by 0.500 units."
   ]
  },
  {
   "cell_type": "markdown",
   "id": "e8180366",
   "metadata": {},
   "source": [
    "### 15. Scenario: A study is conducted to compare the preferences of two groups of participants. The preferences are measured on a Likert scale from 1 to 5. The data collected is as follows:\n",
    "    Group A: [4, 3, 5, 2, 4]\n",
    "    Group B: [3, 2, 4, 3, 3]\n",
    "### Perform a Mann-Whitney U test to determine if there is a significant difference in the median preferences between the two groups.\n"
   ]
  },
  {
   "cell_type": "code",
   "execution_count": 73,
   "id": "9bc37452",
   "metadata": {},
   "outputs": [
    {
     "name": "stdout",
     "output_type": "stream",
     "text": [
      "Mann-Whitney U test : 17.0\n",
      "p_value : 0.380836480306712\n"
     ]
    }
   ],
   "source": [
    "from scipy import stats\n",
    "group_a = [4, 3, 5, 2, 4]\n",
    "group_b = [3, 2, 4, 3, 3]\n",
    "\n",
    "#perform u_test:\n",
    "u_test , p_value = stats.mannwhitneyu(group_a,group_b)\n",
    "\n",
    "print(\"Mann-Whitney U test :\",u_test) #difference between the ranked preferences of the two groups\n",
    "print(\"p_value :\",p_value) #indicates the significance of the observed difference"
   ]
  },
  {
   "cell_type": "markdown",
   "id": "ee9c1209",
   "metadata": {},
   "source": [
    "### 16. Scenario: A company wants to analyze the distribution of customer ages. The data collected is as follows:\n",
    "    [25, 30, 35, 40, 45, 50, 55, 60, 65, 70]\n",
    "### Calculate the interquartile range (IQR) of the ages.\n"
   ]
  },
  {
   "cell_type": "code",
   "execution_count": 81,
   "id": "28c9813e",
   "metadata": {},
   "outputs": [
    {
     "name": "stdout",
     "output_type": "stream",
     "text": [
      "Interquartile Range (IQR): 22.5\n"
     ]
    }
   ],
   "source": [
    "import numpy as np\n",
    "\n",
    "# Customer ages data\n",
    "ages = np.array([25, 30, 35, 40, 45, 50, 55, 60, 65, 70])\n",
    "\n",
    "# Calculate the 25th and 75th percentiles\n",
    "q1 = np.percentile(ages, 25)\n",
    "q3 = np.percentile(ages, 75)\n",
    "\n",
    "# Calculate the interquartile range (IQR)\n",
    "iqr = q3 - q1\n",
    "\n",
    "print(\"Interquartile Range (IQR):\", iqr)\n"
   ]
  },
  {
   "cell_type": "markdown",
   "id": "28ea9586",
   "metadata": {},
   "source": [
    "indicating that the middle 50% of the ages fall within the range of 22.5 years."
   ]
  },
  {
   "cell_type": "markdown",
   "id": "18dd76bc",
   "metadata": {},
   "source": [
    "### 18. Scenario: A company wants to analyze the effect of price on sales. The data collected is as follows:\n",
    "    Price (in dollars): [10, 15, 12, 8, 14]\n",
    "    Sales: [100, 80, 90, 110, 95]\n",
    "### Perform a simple linear regression to predict. sales based on price.\n",
    "\n"
   ]
  },
  {
   "cell_type": "code",
   "execution_count": 86,
   "id": "4bdac8a5",
   "metadata": {},
   "outputs": [
    {
     "name": "stdout",
     "output_type": "stream",
     "text": [
      "Sales = -3.51 * Price + 136.37\n",
      "This equation indicates that for every dollar increase in price, the sales decrease by $5,\n",
      "and the intercept represents the estimated sales at a price of $0.\n"
     ]
    }
   ],
   "source": [
    "import numpy as np\n",
    "from sklearn.linear_model import LinearRegression\n",
    "\n",
    "# Price and sales data\n",
    "price = np.array([10, 15, 12, 8, 14]).reshape(-1, 1)\n",
    "sales = np.array([100, 80, 90, 110, 95])\n",
    "\n",
    "# Create an instance of LinearRegression model and fit the data\n",
    "model = LinearRegression()\n",
    "model.fit(price, sales)\n",
    "\n",
    "# Get the slope and intercept of the regression line\n",
    "slope = model.coef_[0]\n",
    "intercept = model.intercept_\n",
    "\n",
    "# Print the equation of the regression line\n",
    "print(\"Sales = {:.2f} * Price + {:.2f}\".format(slope, intercept))\n",
    "print(\"\"\"This equation indicates that for every dollar increase in price, the sales decrease by $5,\n",
    "and the intercept represents the estimated sales at a price of $0.\"\"\")"
   ]
  },
  {
   "cell_type": "markdown",
   "id": "74ab9d2e",
   "metadata": {},
   "source": [
    "\n",
    "### 19. Scenario: A survey is conducted to measure the satisfaction levels of customers with a new product. The data collected is as follows:\n",
    "    [7, 8, 9, 6, 8, 7, 9, 7, 8, 7]\n",
    "### Calculate the standard error of the mean satisfaction score.\n"
   ]
  },
  {
   "cell_type": "code",
   "execution_count": 88,
   "id": "ba158619",
   "metadata": {},
   "outputs": [
    {
     "name": "stdout",
     "output_type": "stream",
     "text": [
      "Standard Error of the Mean: 0.30550504633038933\n"
     ]
    }
   ],
   "source": [
    "import numpy as np\n",
    "\n",
    "# Satisfaction scores data\n",
    "satisfaction_scores = np.array([7, 8, 9, 6, 8, 7, 9, 7, 8, 7])\n",
    "\n",
    "# Calculate the standard deviation\n",
    "standard_deviation = np.std(satisfaction_scores, ddof=1)\n",
    "\n",
    "# Calculate the number of observations\n",
    "num_observations = len(satisfaction_scores)\n",
    "\n",
    "# Calculate the standard error of the mean\n",
    "standard_error = standard_deviation / np.sqrt(num_observations)\n",
    "\n",
    "print(\"Standard Error of the Mean:\", standard_error)\n"
   ]
  },
  {
   "cell_type": "markdown",
   "id": "62b7974f",
   "metadata": {},
   "source": [
    "### 20. Scenario: A company wants to analyze the relationship between advertising expenditure and sales. The data collected is as follows:\n",
    "    Advertising Expenditure (in thousands): [10, 15, 12, 8, 14]\n",
    "    Sales (in thousands): [25, 30, 28, 20, 26]\n",
    "### Perform a multiple regression analysis to predict sales based on advertising expenditure.\n",
    "\n"
   ]
  },
  {
   "cell_type": "code",
   "execution_count": 89,
   "id": "11570b61",
   "metadata": {},
   "outputs": [
    {
     "name": "stdout",
     "output_type": "stream",
     "text": [
      "                            OLS Regression Results                            \n",
      "==============================================================================\n",
      "Dep. Variable:                      y   R-squared:                       0.767\n",
      "Model:                            OLS   Adj. R-squared:                  0.689\n",
      "Method:                 Least Squares   F-statistic:                     9.872\n",
      "Date:                Tue, 11 Jul 2023   Prob (F-statistic):             0.0516\n",
      "Time:                        14:41:20   Log-Likelihood:                -9.5288\n",
      "No. Observations:                   5   AIC:                             23.06\n",
      "Df Residuals:                       3   BIC:                             22.28\n",
      "Df Model:                           1                                         \n",
      "Covariance Type:            nonrobust                                         \n",
      "==============================================================================\n",
      "                 coef    std err          t      P>|t|      [0.025      0.975]\n",
      "------------------------------------------------------------------------------\n",
      "const         12.2012      4.429      2.755      0.070      -1.893      26.296\n",
      "x1             1.1524      0.367      3.142      0.052      -0.015       2.320\n",
      "==============================================================================\n",
      "Omnibus:                          nan   Durbin-Watson:                   1.136\n",
      "Prob(Omnibus):                    nan   Jarque-Bera (JB):                0.546\n",
      "Skew:                          -0.267   Prob(JB):                        0.761\n",
      "Kurtosis:                       1.471   Cond. No.                         57.3\n",
      "==============================================================================\n",
      "\n",
      "Notes:\n",
      "[1] Standard Errors assume that the covariance matrix of the errors is correctly specified.\n"
     ]
    },
    {
     "name": "stderr",
     "output_type": "stream",
     "text": [
      "C:\\Users\\DELL\\anaconda3\\lib\\site-packages\\statsmodels\\stats\\stattools.py:74: ValueWarning: omni_normtest is not valid with less than 8 observations; 5 samples were given.\n",
      "  warn(\"omni_normtest is not valid with less than 8 observations; %i \"\n"
     ]
    }
   ],
   "source": [
    "import numpy as np\n",
    "import statsmodels.api as sm\n",
    "\n",
    "# Advertising expenditure and sales data\n",
    "advertising_expenditure = np.array([10, 15, 12, 8, 14])\n",
    "sales = np.array([25, 30, 28, 20, 26])\n",
    "\n",
    "# Add a constant term to the independent variable (advertising expenditure)\n",
    "X = sm.add_constant(advertising_expenditure)\n",
    "\n",
    "# Fit the multiple linear regression model\n",
    "model = sm.OLS(sales, X)\n",
    "results = model.fit()\n",
    "\n",
    "# Print the summary of the regression analysis\n",
    "print(results.summary())"
   ]
  },
  {
   "cell_type": "code",
   "execution_count": null,
   "id": "d5114b8f",
   "metadata": {},
   "outputs": [],
   "source": []
  }
 ],
 "metadata": {
  "kernelspec": {
   "display_name": "Python 3 (ipykernel)",
   "language": "python",
   "name": "python3"
  },
  "language_info": {
   "codemirror_mode": {
    "name": "ipython",
    "version": 3
   },
   "file_extension": ".py",
   "mimetype": "text/x-python",
   "name": "python",
   "nbconvert_exporter": "python",
   "pygments_lexer": "ipython3",
   "version": "3.9.13"
  }
 },
 "nbformat": 4,
 "nbformat_minor": 5
}
